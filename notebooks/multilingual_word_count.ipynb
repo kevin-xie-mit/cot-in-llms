{
 "cells": [
  {
   "cell_type": "code",
   "execution_count": 1,
   "metadata": {},
   "outputs": [],
   "source": [
    "import regex"
   ]
  },
  {
   "cell_type": "code",
   "execution_count": 3,
   "metadata": {},
   "outputs": [],
   "source": [
    "_TOKEN_PATTERN = regex.compile(\n",
    "    r'[0-9\\.]+|\\p{Han}|\\p{Hiragana}+|\\p{Katakana}+|\\p{Cyrillic}+|\\p{Latin}+'\n",
    ")\n",
    "\n",
    "def count_word_multilingual(text: str):\n",
    "    tokens = _TOKEN_PATTERN.findall(text)\n",
    "    return tokens, len(tokens)\n"
   ]
  },
  {
   "cell_type": "code",
   "execution_count": 2,
   "metadata": {},
   "outputs": [],
   "source": [
    "def count_word_multilingual(text: str) -> int:\n",
    "    \"\"\"\n",
    "    Performs rough tokenization of the input text and counts the number of tokens.\n",
    "    Supports mixed languages including English, Chinese (including Japanese Kanji), \n",
    "    Spanish, Portuguese, French, German, Russian, Norwegian, and Japanese.\n",
    "    \n",
    "    Rules:\n",
    "    1) [0-9\\\\.]+ : Matches consecutive digits (including decimal points) as a single token.\n",
    "    2) \\\\p{Han} : Matches a single Chinese character (including Kanji used in Japanese).\n",
    "    3) \\\\p{Hiragana}+ : Matches consecutive Hiragana characters as a single token.\n",
    "    4) \\\\p{Katakana}+ : Matches consecutive Katakana characters as a single token.\n",
    "    5) \\\\p{Cyrillic}+ : Matches consecutive Cyrillic letters (Russian).\n",
    "    6) \\\\p{Latin}+ : Matches consecutive Latin letters (including diacritics),\n",
    "                     supporting English, Spanish, Portuguese, French, German, Norwegian, etc.\n",
    "    \n",
    "    Notes:\n",
    "    - Each Chinese character (\\\\p{Han}) is treated as an individual token. \n",
    "      For example, \"你好\" => [\"你\", \"好\"].\n",
    "    - Consecutive characters from other scripts (e.g., \"hello\") are treated as a single token.\n",
    "    - This is a simplified example and does not handle other symbols, punctuation, \n",
    "      or complex numerical formats.\n",
    "    - Requires the third-party module `regex` (pip install regex),\n",
    "      because the built-in `re` module has incomplete support for Unicode properties \\\\p{...}.\n",
    "    \"\"\"\n",
    "    pattern = (\n",
    "        r'[0-9\\.]+'        # Consecutive digits and decimal points\n",
    "        r'|\\p{Han}'        # Single Chinese character\n",
    "        r'|\\p{Hiragana}+'  # Consecutive Hiragana characters\n",
    "        r'|\\p{Katakana}+'  # Consecutive Katakana characters\n",
    "        r'|\\p{Cyrillic}+'  # Consecutive Cyrillic letters\n",
    "        r'|\\p{Latin}+'     # Consecutive Latin letters (including diacritics)\n",
    "    )\n",
    "    tokens = regex.findall(pattern, text)\n",
    "    return tokens, len(tokens)"
   ]
  },
  {
   "cell_type": "code",
   "execution_count": 4,
   "metadata": {},
   "outputs": [
    {
     "name": "stdout",
     "output_type": "stream",
     "text": [
      "Token count： 376\n"
     ]
    }
   ],
   "source": [
    "test_text = \"\"\"\n",
    "英语\n",
    "medication: amiodarone, dosage: not mentioned, mode: not mentioned, frequency: not mentioned, duration: not mentioned, reason: not mentioned, list/narrative: list;\\nmedication: atrovent, dosage: not mentioned, mode: not mentioned, frequency: not mentioned, duration: not mentioned, reason: not mentioned, list/narrative: list;\n",
    "中文\n",
    "Normalized terms: 糖尿病性低血糖症, 骨质疏松, 高血压, 冠状动脉粥样硬化性心脏病, 不稳定性心绞痛\n",
    "entity: кашля, type: Finding;\\nentity: сыпь, type: Adverse Drug Reaction;\\nentity: сироп, type: Drugform;\n",
    "西语\n",
    "entity: metastásica, type: tumor morphology;\\nentity: metástasis, type: tumor morphology;\\nentity: metástasis, type: tumor morphology;\\nentity: neoplasia, type: tumor morphology;\\nentity: neoplasia, type: tumor morphology;\\nentity: tumor, type: tumor morphology;\\nentity: tumoración, type: tumor morphology;\\nentity: tumoral, type: tumor morphology;\\nentity: tumores, type: tumor morphology;\\nentity: Neoplasia pulmonar T4N0M1b, type: tumor morphology;\\nentity: Carcinoma indiferenciado, type: tumor morphology;\n",
    "日语\n",
    "entity: 時, type: time;\n",
    "entity: 身長, type: item;\n",
    "entity: 164.8, type: value;\n",
    "entity: である, type: PN;\n",
    "entity: 疼痛, type: state;\n",
    "entity: あり, type: PN;\n",
    "entity: 心窩部, type: body;\n",
    "法语\n",
    "evidence of genre: patient;\\nevidence of origine: une anémie sévère associée à des moelenas évoluant depuis 5 mois dans un contexte de conservation de l'état général, sans fièvre;\\nevidence of issue: décédé;\n",
    "挪威语\n",
    "entity_1: sønn, entity_2: Hun, relation: Related_to;\\nentity_1: gjenlevende, entity_2: sønn, relation: Holder;\\nentity_1: 30, entity_2: sønn, relation: Holder;\n",
    "德语\n",
    "entity: Hypervolaemie, type: diagnosis, status: none;\\nentity: Wassereinlagerungen, type: diagnosis, status: none;\\nentity: Chronische Niereninsuffizienz, type: diagnosis, status: none;\\nentity: Chemosaturation der Leber, type: treatment, status: none;\\nentity: ZVK/Shaldon-Implantation, type: treatment, status: none;\n",
    "葡萄牙语\n",
    "entity: antiepilépticos, type: Therapeutics;\\nentity: oxigénio em alto débito, type: Therapeutics;\\nentity: câmara hiperbárica, type: Therapeutics;\\nentity: melhoria gradual, type: Evolution;\\nentity: encefalopatia, type: Condition;\\nentity: controlo, type: Evolution;\\nentity: crises epilépticas, type: Condition;\\nentity: A, type: Test;\\nentity: 15 horas depois, type: DateTime;\\nentity: restrição a a difusão compatível, type: Results;\\n\n",
    "俄语\n",
    "entity: вирус герпеса, type: Drug Interaction;\\nentity: вирус папилломы человека, type: Drug Interaction;\\nentity: лишай, type: Drug Interaction;\\nentity: ослабленный иммунитет, type: Drug Interaction;\n",
    "\"\"\"\n",
    "\n",
    "tokens, count = count_word_multilingual(test_text)\n",
    "# print(\"Testing text：\", test_text)\n",
    "print(\"Token count：\", count)"
   ]
  },
  {
   "cell_type": "code",
   "execution_count": null,
   "metadata": {},
   "outputs": [],
   "source": []
  }
 ],
 "metadata": {
  "kernelspec": {
   "display_name": "base",
   "language": "python",
   "name": "python3"
  },
  "language_info": {
   "codemirror_mode": {
    "name": "ipython",
    "version": 3
   },
   "file_extension": ".py",
   "mimetype": "text/x-python",
   "name": "python",
   "nbconvert_exporter": "python",
   "pygments_lexer": "ipython3",
   "version": "3.12.2"
  }
 },
 "nbformat": 4,
 "nbformat_minor": 2
}
