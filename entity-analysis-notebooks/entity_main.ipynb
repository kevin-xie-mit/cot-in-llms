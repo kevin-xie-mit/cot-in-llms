{
 "cells": [
  {
   "cell_type": "code",
   "execution_count": 23,
   "id": "7b70bd33",
   "metadata": {},
   "outputs": [],
   "source": [
    "import os\n",
    "import json\n",
    "from dotenv import load_dotenv\n",
    "from helper.processor import Processor\n",
    "\n",
    "load_dotenv()\n",
    "data_path = os.getenv(\"INPUT_GOLD_LABEL_PATH\")\n",
    "output_path = os.getenv(\"ENTITY_OUTPUT_PATH\")\n",
    "\n",
    "entity_processor = Processor()"
   ]
  },
  {
   "cell_type": "code",
   "execution_count": null,
   "id": "ae4268c2",
   "metadata": {},
   "outputs": [
    {
     "ename": "KeyboardInterrupt",
     "evalue": "",
     "output_type": "error",
     "traceback": [
      "\u001b[0;31m---------------------------------------------------------------------------\u001b[0m",
      "\u001b[0;31mKeyboardInterrupt\u001b[0m                         Traceback (most recent call last)",
      "Cell \u001b[0;32mIn[25], line 17\u001b[0m\n\u001b[1;32m     13\u001b[0m     output_id \u001b[38;5;241m=\u001b[39m \u001b[38;5;28mint\u001b[39m(xmi_file\u001b[38;5;241m.\u001b[39msplit(\u001b[38;5;124m'\u001b[39m\u001b[38;5;124m.\u001b[39m\u001b[38;5;124m'\u001b[39m)[\u001b[38;5;241m0\u001b[39m]\u001b[38;5;241m.\u001b[39msplit(\u001b[38;5;124m'\u001b[39m\u001b[38;5;124m_\u001b[39m\u001b[38;5;124m'\u001b[39m)[\u001b[38;5;241m-\u001b[39m\u001b[38;5;241m1\u001b[39m])\n\u001b[1;32m     15\u001b[0m     xmi_file_path \u001b[38;5;241m=\u001b[39m os\u001b[38;5;241m.\u001b[39mpath\u001b[38;5;241m.\u001b[39mjoin(task_path, xmi_file)\n\u001b[0;32m---> 17\u001b[0m     all_entities \u001b[38;5;241m=\u001b[39m \u001b[43mentity_processor\u001b[49m\u001b[38;5;241;43m.\u001b[39;49m\u001b[43mextract_all_entities\u001b[49m\u001b[43m(\u001b[49m\u001b[43mxmi_file_path\u001b[49m\u001b[43m)\u001b[49m\n\u001b[1;32m     19\u001b[0m     json_dict[output_id] \u001b[38;5;241m=\u001b[39m all_entities\n\u001b[1;32m     22\u001b[0m \u001b[38;5;28;01mwith\u001b[39;00m \u001b[38;5;28mopen\u001b[39m(os\u001b[38;5;241m.\u001b[39mpath\u001b[38;5;241m.\u001b[39mjoin(output_path, \u001b[38;5;124mf\u001b[39m\u001b[38;5;124m\"\u001b[39m\u001b[38;5;132;01m{\u001b[39;00mtask_name\u001b[38;5;132;01m}\u001b[39;00m\u001b[38;5;124m.json\u001b[39m\u001b[38;5;124m\"\u001b[39m), \u001b[38;5;124m\"\u001b[39m\u001b[38;5;124mw\u001b[39m\u001b[38;5;124m\"\u001b[39m) \u001b[38;5;28;01mas\u001b[39;00m f:\n",
      "File \u001b[0;32m~/Desktop/LLM CoT/LLM-CoT/entity-analysis-notebooks/helper/processor.py:45\u001b[0m, in \u001b[0;36mProcessor.extract_all_entities\u001b[0;34m(self, xmi_file_path)\u001b[0m\n\u001b[1;32m     40\u001b[0m \u001b[38;5;250m\u001b[39m\u001b[38;5;124;03m\"\"\"\u001b[39;00m\n\u001b[1;32m     41\u001b[0m \u001b[38;5;124;03mGiven the path to a .xmi file, this function will extract the UMLS concepts from the .xmi file\u001b[39;00m\n\u001b[1;32m     42\u001b[0m \u001b[38;5;124;03mand return them as a list of dictionaries.\u001b[39;00m\n\u001b[1;32m     43\u001b[0m \u001b[38;5;124;03m\"\"\"\u001b[39;00m\n\u001b[1;32m     44\u001b[0m \u001b[38;5;66;03m# Parse the .xmi file\u001b[39;00m\n\u001b[0;32m---> 45\u001b[0m tree \u001b[38;5;241m=\u001b[39m \u001b[43mET\u001b[49m\u001b[38;5;241;43m.\u001b[39;49m\u001b[43mparse\u001b[49m\u001b[43m(\u001b[49m\u001b[43mxmi_file_path\u001b[49m\u001b[43m)\u001b[49m\n\u001b[1;32m     46\u001b[0m root \u001b[38;5;241m=\u001b[39m tree\u001b[38;5;241m.\u001b[39mgetroot()\n\u001b[1;32m     48\u001b[0m \u001b[38;5;66;03m# Extract all <refsem:UmlsConcept> elements\u001b[39;00m\n",
      "File \u001b[0;32m/opt/miniconda3/lib/python3.12/xml/etree/ElementTree.py:1204\u001b[0m, in \u001b[0;36mparse\u001b[0;34m(source, parser)\u001b[0m\n\u001b[1;32m   1195\u001b[0m \u001b[38;5;250m\u001b[39m\u001b[38;5;124;03m\"\"\"Parse XML document into element tree.\u001b[39;00m\n\u001b[1;32m   1196\u001b[0m \n\u001b[1;32m   1197\u001b[0m \u001b[38;5;124;03m*source* is a filename or file object containing XML data,\u001b[39;00m\n\u001b[0;32m   (...)\u001b[0m\n\u001b[1;32m   1201\u001b[0m \n\u001b[1;32m   1202\u001b[0m \u001b[38;5;124;03m\"\"\"\u001b[39;00m\n\u001b[1;32m   1203\u001b[0m tree \u001b[38;5;241m=\u001b[39m ElementTree()\n\u001b[0;32m-> 1204\u001b[0m \u001b[43mtree\u001b[49m\u001b[38;5;241;43m.\u001b[39;49m\u001b[43mparse\u001b[49m\u001b[43m(\u001b[49m\u001b[43msource\u001b[49m\u001b[43m,\u001b[49m\u001b[43m \u001b[49m\u001b[43mparser\u001b[49m\u001b[43m)\u001b[49m\n\u001b[1;32m   1205\u001b[0m \u001b[38;5;28;01mreturn\u001b[39;00m tree\n",
      "File \u001b[0;32m/opt/miniconda3/lib/python3.12/xml/etree/ElementTree.py:569\u001b[0m, in \u001b[0;36mElementTree.parse\u001b[0;34m(self, source, parser)\u001b[0m\n\u001b[1;32m    563\u001b[0m     parser \u001b[38;5;241m=\u001b[39m XMLParser()\n\u001b[1;32m    564\u001b[0m     \u001b[38;5;28;01mif\u001b[39;00m \u001b[38;5;28mhasattr\u001b[39m(parser, \u001b[38;5;124m'\u001b[39m\u001b[38;5;124m_parse_whole\u001b[39m\u001b[38;5;124m'\u001b[39m):\n\u001b[1;32m    565\u001b[0m         \u001b[38;5;66;03m# The default XMLParser, when it comes from an accelerator,\u001b[39;00m\n\u001b[1;32m    566\u001b[0m         \u001b[38;5;66;03m# can define an internal _parse_whole API for efficiency.\u001b[39;00m\n\u001b[1;32m    567\u001b[0m         \u001b[38;5;66;03m# It can be used to parse the whole source without feeding\u001b[39;00m\n\u001b[1;32m    568\u001b[0m         \u001b[38;5;66;03m# it with chunks.\u001b[39;00m\n\u001b[0;32m--> 569\u001b[0m         \u001b[38;5;28mself\u001b[39m\u001b[38;5;241m.\u001b[39m_root \u001b[38;5;241m=\u001b[39m \u001b[43mparser\u001b[49m\u001b[38;5;241;43m.\u001b[39;49m\u001b[43m_parse_whole\u001b[49m\u001b[43m(\u001b[49m\u001b[43msource\u001b[49m\u001b[43m)\u001b[49m\n\u001b[1;32m    570\u001b[0m         \u001b[38;5;28;01mreturn\u001b[39;00m \u001b[38;5;28mself\u001b[39m\u001b[38;5;241m.\u001b[39m_root\n\u001b[1;32m    571\u001b[0m \u001b[38;5;28;01mwhile\u001b[39;00m data \u001b[38;5;241m:=\u001b[39m source\u001b[38;5;241m.\u001b[39mread(\u001b[38;5;241m65536\u001b[39m):\n",
      "\u001b[0;31mKeyboardInterrupt\u001b[0m: "
     ]
    }
   ],
   "source": [
    "# Every task\n",
    "# Every ID (output) within that task\n",
    "\n",
    "for task_name in os.listdir(data_path):\n",
    "    if task_name == '.DS_Store': # skip DS store\n",
    "        continue\n",
    "\n",
    "    task_path = os.path.join(data_path, task_name)\n",
    "\n",
    "    json_dict = {}\n",
    "\n",
    "    for xmi_file in os.listdir(task_path):\n",
    "        output_id = int(xmi_file.split('.')[0].split('_')[-1])\n",
    "\n",
    "        xmi_file_path = os.path.join(task_path, xmi_file)\n",
    "\n",
    "        all_entities = entity_processor.extract_all_entities(xmi_file_path)\n",
    "\n",
    "        json_dict[output_id] = all_entities\n",
    "\n",
    "       \n",
    "    with open(os.path.join(output_path, f\"{task_name}.json\"), \"w\") as f:\n",
    "        json.dump(json_dict, f, indent=4, ensure_ascii=False)\n",
    "\n",
    "    # Resulting JSON looks like\n",
    "    # {\n",
    "    #  \"task_output_id_1\": {\n",
    "        #    \"entity_xmi_id_1\" for output_id_1: {\n",
    "            #      \"entity\": \"entity_name\",\n",
    "            #      \"begin\": \"begin_index\",\n",
    "            #      \"end\": \"end_index\",\n",
    "            #      \"polarity\": \"polarity\",\n",
    "            #      \"subject\": \"subject\",\n",
    "            #      \"historyOf\": \"historyOf\"\n",
    "        #    },\n",
    "        #    ... (all entities in this task output)\n",
    "    #   },\n",
    "    #  \"task_output_id_2\": {...}\n",
    "    # \n",
    "    #  ... (all task outputs)\n",
    "    # }\n",
    "    break\n",
    "    \n",
    "    "
   ]
  },
  {
   "cell_type": "code",
   "execution_count": null,
   "id": "679bf76d",
   "metadata": {},
   "outputs": [],
   "source": []
  }
 ],
 "metadata": {
  "kernelspec": {
   "display_name": "Python 3",
   "language": "python",
   "name": "python3"
  },
  "language_info": {
   "codemirror_mode": {
    "name": "ipython",
    "version": 3
   },
   "file_extension": ".py",
   "mimetype": "text/x-python",
   "name": "python",
   "nbconvert_exporter": "python",
   "pygments_lexer": "ipython3",
   "version": "3.12.2"
  }
 },
 "nbformat": 4,
 "nbformat_minor": 5
}
